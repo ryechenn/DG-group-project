{
 "cells": [
  {
   "cell_type": "markdown",
   "metadata": {},
   "source": [
    "First read the data."
   ]
  },
  {
   "cell_type": "code",
   "execution_count": 72,
   "metadata": {},
   "outputs": [
    {
     "name": "stderr",
     "output_type": "stream",
     "text": [
      "/var/folders/v3/ty0yczm90gx17l8jym6pdksh0000gn/T/ipykernel_2119/2064631354.py:3: DtypeWarning: Columns (15) have mixed types. Specify dtype option on import or set low_memory=False.\n",
      "  data=pd.read_csv('/Users/yuhongchen/Desktop/work/summer intern/Group/Cross Selling/Test.csv')\n"
     ]
    }
   ],
   "source": [
    "import pandas as pd\n",
    "import numpy as np\n",
    "data=pd.read_csv('/Users/yuhongchen/Desktop/work/summer intern/Group/Cross Selling/Test.csv')"
   ]
  },
  {
   "cell_type": "markdown",
   "metadata": {},
   "source": [
    "Then we have 4 columns that needed to deal with outliers\n",
    "First is age"
   ]
  },
  {
   "cell_type": "code",
   "execution_count": 84,
   "metadata": {},
   "outputs": [
    {
     "name": "stdout",
     "output_type": "stream",
     "text": [
      "916       90\n",
      "16039     90\n",
      "29945     90\n",
      "30067     90\n",
      "30117     90\n",
      "          ..\n",
      "927731    90\n",
      "928290    90\n",
      "928668    90\n",
      "928868    90\n",
      "928886    90\n",
      "Name: age, Length: 1207, dtype: int64\n",
      "39.82861937468737\n",
      "39.0\n",
      "-9.627274493420586\n",
      "89.28451324279533\n"
     ]
    }
   ],
   "source": [
    "age=data['age']\n",
    "age_mean=age.mean()\n",
    "age_std=age.std()\n",
    "age_lower=age_mean - 3*age_std\n",
    "age_upper=age_mean + 3*age_std\n",
    "age_outliers=age[(age<age_lower)|(age>age_upper)]\n",
    "print(age_outliers)\n",
    "print(age_mean) #39\n",
    "print(age.median())\n",
    "print(age_lower) #-9\n",
    "print(age_upper) #89"
   ]
  },
  {
   "cell_type": "markdown",
   "metadata": {},
   "source": [
    "Replace the outliers with mean and median"
   ]
  },
  {
   "cell_type": "code",
   "execution_count": 85,
   "metadata": {},
   "outputs": [
    {
     "name": "stdout",
     "output_type": "stream",
     "text": [
      "0         56\n",
      "1         36\n",
      "2         22\n",
      "3         22\n",
      "4         22\n",
      "          ..\n",
      "929610    55\n",
      "929611    30\n",
      "929612    52\n",
      "929613    32\n",
      "929614    40\n",
      "Name: age, Length: 929615, dtype: int64\n",
      "39\n",
      "39\n",
      "39\n",
      "22\n",
      "33\n"
     ]
    }
   ],
   "source": [
    "\n",
    "age1 = age._get_numeric_data()\n",
    "age1[age1 >89]=39\n",
    "age1[age1 < -9]=39\n",
    "print(age1)\n",
    "print(age[916]) #original outlier\n",
    "print(age[16039]) #original outlier\n",
    "print(age[928868]) #original outlier\n",
    "print(age[910]) #not outlier\n",
    "print(age[100]) #not outlier\n",
    "#Test the replace"
   ]
  },
  {
   "cell_type": "markdown",
   "metadata": {},
   "source": [
    "Second for antiguedad\n"
   ]
  },
  {
   "cell_type": "code",
   "execution_count": 86,
   "metadata": {},
   "outputs": [
    {
     "name": "stdout",
     "output_type": "stream",
     "text": [
      "675528   -999999\n",
      "691043   -999999\n",
      "734648   -999999\n",
      "Name: antiguedad, dtype: int64\n",
      "77.72841337542961\n",
      "55.0\n",
      "-5315.7451415318665\n",
      "5471.201968282725\n"
     ]
    }
   ],
   "source": [
    "antiguedad=data['antiguedad']\n",
    "antiguedad_mean=antiguedad.mean()\n",
    "antiguedad_std=antiguedad.std()\n",
    "antiguedad_lower=antiguedad_mean - 3*antiguedad_std\n",
    "antiguedad_upper=antiguedad_mean + 3*antiguedad_std\n",
    "antiguedad_outliers=antiguedad[(antiguedad<antiguedad_lower)|(antiguedad>antiguedad_upper)]\n",
    "\n",
    "print(antiguedad_outliers)\n",
    "print(antiguedad_mean) #77\n",
    "print(antiguedad.median())#55\n",
    "print(antiguedad_lower) #-5315\n",
    "print(antiguedad_upper) #5471"
   ]
  },
  {
   "cell_type": "code",
   "execution_count": 90,
   "metadata": {},
   "outputs": [
    {
     "name": "stdout",
     "output_type": "stream",
     "text": [
      "0         256\n",
      "1          34\n",
      "2          34\n",
      "3          34\n",
      "4          34\n",
      "         ... \n",
      "929610    206\n",
      "929611    115\n",
      "929612    115\n",
      "929613    115\n",
      "929614    115\n",
      "Name: antiguedad, Length: 929615, dtype: int64\n",
      "66\n",
      "66\n"
     ]
    }
   ],
   "source": [
    "antiguedad1 = antiguedad._get_numeric_data()\n",
    "antiguedad1[antiguedad1 >5471]=66\n",
    "antiguedad1[antiguedad1 < -5315]=66\n",
    "print(antiguedad1)\n",
    "print(antiguedad[675528]) #original outlier\n",
    "print(antiguedad[734648]) #original outlier\n",
    "#Test the replace"
   ]
  },
  {
   "cell_type": "markdown",
   "metadata": {},
   "source": [
    "Third is cod_prov"
   ]
  },
  {
   "cell_type": "code",
   "execution_count": 91,
   "metadata": {},
   "outputs": [
    {
     "name": "stdout",
     "output_type": "stream",
     "text": [
      "Series([], Name: cod_prov, dtype: float64)\n",
      "26.54615019786759\n",
      "28.0\n",
      "-11.963690609958135\n",
      "65.05599100569331\n"
     ]
    }
   ],
   "source": [
    "cod_prov=data['cod_prov']\n",
    "cod_prov_mean=cod_prov.mean()\n",
    "cod_prov_std=cod_prov.std()\n",
    "cod_prov_lower=cod_prov_mean - 3*cod_prov_std\n",
    "cod_prov_upper=cod_prov_mean + 3*cod_prov_std\n",
    "cod_prov_outliers=cod_prov[(cod_prov<cod_prov_lower)|(cod_prov>cod_prov_upper)]\n",
    "print(cod_prov_outliers)\n",
    "print(cod_prov_mean) #26\n",
    "print(cod_prov.median())#28\n",
    "print(cod_prov_lower) #-11\n",
    "print(cod_prov_upper) #65"
   ]
  },
  {
   "cell_type": "code",
   "execution_count": 92,
   "metadata": {},
   "outputs": [
    {
     "name": "stdout",
     "output_type": "stream",
     "text": [
      "0         28.0\n",
      "1          3.0\n",
      "2         15.0\n",
      "3          8.0\n",
      "4          7.0\n",
      "          ... \n",
      "929610    28.0\n",
      "929611    26.0\n",
      "929612    33.0\n",
      "929613    33.0\n",
      "929614    45.0\n",
      "Name: cod_prov, Length: 929615, dtype: float64\n"
     ]
    }
   ],
   "source": [
    "cod_prov1 = cod_prov._get_numeric_data()\n",
    "cod_prov1[cod_prov1 >65]=27\n",
    "cod_prov1[cod_prov1 < -11]=27\n",
    "print(cod_prov1)\n",
    "\n",
    "#Test the replace"
   ]
  },
  {
   "cell_type": "markdown",
   "metadata": {},
   "source": [
    "Fourth is renta"
   ]
  },
  {
   "cell_type": "code",
   "execution_count": 97,
   "metadata": {},
   "outputs": [
    {
     "name": "stdout",
     "output_type": "stream",
     "text": [
      "Series([], Name: renta, dtype: object)\n",
      "0           326124.90\n",
      "1                  NA\n",
      "2                  NA\n",
      "3           148402.98\n",
      "4           106885.80\n",
      "             ...     \n",
      "929610      128643.57\n",
      "929611             NA\n",
      "929612       72765.27\n",
      "929613      147488.88\n",
      "929614             NA\n",
      "Name: renta, Length: 929615, dtype: object\n"
     ]
    }
   ],
   "source": [
    "renta=data['renta']\n",
    "renta1 = renta._get_numeric_data()\n",
    "renta1[renta1 >297949]=105525\n",
    "renta1[renta1 < -65366]=105525\n",
    "print(renta1)\n",
    "print(renta)"
   ]
  }
 ],
 "metadata": {
  "kernelspec": {
   "display_name": "Python 3",
   "language": "python",
   "name": "python3"
  },
  "language_info": {
   "codemirror_mode": {
    "name": "ipython",
    "version": 3
   },
   "file_extension": ".py",
   "mimetype": "text/x-python",
   "name": "python",
   "nbconvert_exporter": "python",
   "pygments_lexer": "ipython3",
   "version": "3.11.0"
  },
  "orig_nbformat": 4
 },
 "nbformat": 4,
 "nbformat_minor": 2
}
