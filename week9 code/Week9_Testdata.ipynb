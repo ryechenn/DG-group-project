{
 "cells": [
  {
   "cell_type": "markdown",
   "metadata": {},
   "source": [
    "Cross-Selling Remmendation for Banking Products\n",
    "Data cleaning and transformation"
   ]
  },
  {
   "cell_type": "code",
   "execution_count": 54,
   "metadata": {},
   "outputs": [
    {
     "name": "stderr",
     "output_type": "stream",
     "text": [
      "c:\\Users\\gifty\\anaconda3\\lib\\site-packages\\IPython\\core\\interactiveshell.py:3444: DtypeWarning: Columns (15) have mixed types.Specify dtype option on import or set low_memory=False.\n",
      "  exec(code_obj, self.user_global_ns, self.user_ns)\n"
     ]
    }
   ],
   "source": [
    "##Read in dataset as\n",
    "import pandas as pd\n",
    "import numpy as np\n",
    "\n",
    "testdata = pd.read_csv('Test.csv')"
   ]
  },
  {
   "cell_type": "code",
   "execution_count": 55,
   "metadata": {},
   "outputs": [
    {
     "name": "stdout",
     "output_type": "stream",
     "text": [
      "Missing values in each column:\n",
      "fecha_dato                    0\n",
      "ncodpers                      0\n",
      "ind_empleado                  0\n",
      "pais_residencia               0\n",
      "sexo                          5\n",
      "age                           0\n",
      "fecha_alta                    0\n",
      "ind_nuevo                     0\n",
      "antiguedad                    0\n",
      "indrel                        0\n",
      "ult_fec_cli_1t           927932\n",
      "indrel_1mes                  23\n",
      "tiprel_1mes                  23\n",
      "indresi                       0\n",
      "indext                        0\n",
      "conyuemp                 929511\n",
      "canal_entrada              2081\n",
      "indfall                       0\n",
      "tipodom                       0\n",
      "cod_prov                   3996\n",
      "nomprov                    3996\n",
      "ind_actividad_cliente         0\n",
      "renta                         0\n",
      "segmento                   2248\n",
      "dtype: int64\n"
     ]
    }
   ],
   "source": [
    "### Step 1: Dealing with Missing Values (NAs)\n",
    "\n",
    "#  Check for missing values\n",
    "print(\"Missing values in each column:\")\n",
    "print(testdata.isnull().sum())\n",
    "\n",
    "\n",
    "#testdata.info()"
   ]
  },
  {
   "cell_type": "code",
   "execution_count": 56,
   "metadata": {},
   "outputs": [
    {
     "name": "stdout",
     "output_type": "stream",
     "text": [
      "fecha_dato               0.0\n",
      "ncodpers                 0.0\n",
      "ind_empleado             0.0\n",
      "pais_residencia          0.0\n",
      "sexo                     0.0\n",
      "age                      0.0\n",
      "fecha_alta               0.0\n",
      "ind_nuevo                0.0\n",
      "antiguedad               0.0\n",
      "indrel                   0.0\n",
      "ult_fec_cli_1t           0.0\n",
      "indrel_1mes              0.0\n",
      "tiprel_1mes              0.0\n",
      "indresi                  0.0\n",
      "indext                   0.0\n",
      "conyuemp                 0.0\n",
      "canal_entrada            0.0\n",
      "indfall                  0.0\n",
      "tipodom                  0.0\n",
      "cod_prov                 0.0\n",
      "nomprov                  0.0\n",
      "ind_actividad_cliente    0.0\n",
      "renta                    0.0\n",
      "segmento                 0.0\n",
      "dtype: float64\n"
     ]
    }
   ],
   "source": [
    "# Drop rows with any missing values is one approach to dealing with NAs\n",
    "testdata_cleaned = testdata.dropna()\n",
    "\n",
    "print(testdata_cleaned.isnull().sum())\n",
    "\n",
    "## this approch is inappriopriate for analysis\n",
    "## might result in inaccuracy of results"
   ]
  },
  {
   "cell_type": "code",
   "execution_count": 57,
   "metadata": {},
   "outputs": [
    {
     "name": "stdout",
     "output_type": "stream",
     "text": [
      "fecha_dato                object\n",
      "ncodpers                   int64\n",
      "ind_empleado              object\n",
      "pais_residencia           object\n",
      "sexo                      object\n",
      "age                        int64\n",
      "fecha_alta                object\n",
      "ind_nuevo                  int64\n",
      "antiguedad                 int64\n",
      "indrel                     int64\n",
      "ult_fec_cli_1t            object\n",
      "indrel_1mes              float64\n",
      "tiprel_1mes               object\n",
      "indresi                   object\n",
      "indext                    object\n",
      "conyuemp                  object\n",
      "canal_entrada             object\n",
      "indfall                   object\n",
      "tipodom                    int64\n",
      "cod_prov                 float64\n",
      "nomprov                   object\n",
      "ind_actividad_cliente      int64\n",
      "renta                     object\n",
      "segmento                  object\n",
      "dtype: object\n"
     ]
    }
   ],
   "source": [
    "print(testdata.dtypes)"
   ]
  },
  {
   "cell_type": "code",
   "execution_count": 59,
   "metadata": {},
   "outputs": [
    {
     "name": "stdout",
     "output_type": "stream",
     "text": [
      "<class 'pandas.core.frame.DataFrame'>\n",
      "RangeIndex: 929615 entries, 0 to 929614\n",
      "Data columns (total 24 columns):\n",
      " #   Column                 Non-Null Count   Dtype  \n",
      "---  ------                 --------------   -----  \n",
      " 0   fecha_dato             929615 non-null  object \n",
      " 1   ncodpers               929615 non-null  int64  \n",
      " 2   ind_empleado           929615 non-null  object \n",
      " 3   pais_residencia        929615 non-null  object \n",
      " 4   sexo                   929610 non-null  object \n",
      " 5   age                    929615 non-null  int64  \n",
      " 6   fecha_alta             929615 non-null  object \n",
      " 7   ind_nuevo              929615 non-null  int64  \n",
      " 8   antiguedad             929615 non-null  int64  \n",
      " 9   indrel                 929615 non-null  int64  \n",
      " 10  ult_fec_cli_1t         1683 non-null    object \n",
      " 11  indrel_1mes            929615 non-null  float64\n",
      " 12  tiprel_1mes            929592 non-null  object \n",
      " 13  indresi                929615 non-null  object \n",
      " 14  indext                 929615 non-null  object \n",
      " 15  conyuemp               104 non-null     object \n",
      " 16  canal_entrada          927534 non-null  object \n",
      " 17  indfall                929615 non-null  object \n",
      " 18  tipodom                929615 non-null  int64  \n",
      " 19  cod_prov               929615 non-null  float64\n",
      " 20  nomprov                925619 non-null  object \n",
      " 21  ind_actividad_cliente  929615 non-null  int64  \n",
      " 22  renta                  929615 non-null  object \n",
      " 23  segmento               927367 non-null  object \n",
      "dtypes: float64(2), int64(7), object(15)\n",
      "memory usage: 170.2+ MB\n"
     ]
    },
    {
     "data": {
      "text/plain": [
       "fecha_dato                    0\n",
       "ncodpers                      0\n",
       "ind_empleado                  0\n",
       "pais_residencia               0\n",
       "sexo                          5\n",
       "age                           0\n",
       "fecha_alta                    0\n",
       "ind_nuevo                     0\n",
       "antiguedad                    0\n",
       "indrel                        0\n",
       "ult_fec_cli_1t           927932\n",
       "indrel_1mes                   0\n",
       "tiprel_1mes                  23\n",
       "indresi                       0\n",
       "indext                        0\n",
       "conyuemp                 929511\n",
       "canal_entrada              2081\n",
       "indfall                       0\n",
       "tipodom                       0\n",
       "cod_prov                      0\n",
       "nomprov                    3996\n",
       "ind_actividad_cliente         0\n",
       "renta                         0\n",
       "segmento                   2248\n",
       "dtype: int64"
      ]
     },
     "execution_count": 59,
     "metadata": {},
     "output_type": "execute_result"
    }
   ],
   "source": [
    "# interger and float data types\n",
    "#cod_prov, ind_actividad_cliente,tipodom,indrel_1mes, indrel, antiguedad,ind_nuevo\n",
    "# age, ncodpers\n",
    "\n",
    "## lets use fillna\n",
    "\n",
    "testdata['ind_nuevo']=testdata['ind_nuevo'].fillna(testdata['ind_nuevo'].mean())\n",
    "\n",
    "testdata['indrel']=testdata['indrel'].fillna(testdata['indrel'].mean())\n",
    "\n",
    "testdata['tipodom']=testdata['tipodom'].fillna(testdata['tipodom'].mean())\n",
    "\n",
    "testdata['ind_actividad_cliente']=testdata['ind_actividad_cliente'].fillna(testdata['ind_actividad_cliente'].mean())\n",
    "\n",
    "testdata['cod_prov']=testdata['cod_prov'].fillna(testdata['cod_prov'].mean())\n",
    "\n",
    "testdata['ncodpers']=testdata['ncodpers'].fillna(testdata['ncodpers'].mean())\n",
    "\n",
    "testdata['indrel_1mes']=testdata['indrel_1mes'].fillna(testdata['indrel_1mes'].mean())\n",
    "\n",
    "testdata['age']=testdata['age'].fillna(testdata['age'].mean())\n",
    "\n",
    "testdata['antiguedad']=testdata['antiguedad'].fillna(testdata['antiguedad'].mean())\n",
    "\n",
    "testdata.info()\n",
    "\n",
    "testdata.isnull().sum()"
   ]
  },
  {
   "cell_type": "code",
   "execution_count": 60,
   "metadata": {},
   "outputs": [
    {
     "name": "stdout",
     "output_type": "stream",
     "text": [
      "<class 'pandas.core.frame.DataFrame'>\n",
      "RangeIndex: 929615 entries, 0 to 929614\n",
      "Data columns (total 24 columns):\n",
      " #   Column                 Non-Null Count   Dtype  \n",
      "---  ------                 --------------   -----  \n",
      " 0   fecha_dato             929615 non-null  object \n",
      " 1   ncodpers               929615 non-null  int64  \n",
      " 2   ind_empleado           929615 non-null  object \n",
      " 3   pais_residencia        929615 non-null  object \n",
      " 4   sexo                   929610 non-null  object \n",
      " 5   age                    929615 non-null  int64  \n",
      " 6   fecha_alta             929615 non-null  object \n",
      " 7   ind_nuevo              929615 non-null  int64  \n",
      " 8   antiguedad             929615 non-null  int64  \n",
      " 9   indrel                 929615 non-null  int64  \n",
      " 10  ult_fec_cli_1t         1683 non-null    object \n",
      " 11  indrel_1mes            929615 non-null  float64\n",
      " 12  tiprel_1mes            929592 non-null  object \n",
      " 13  indresi                929615 non-null  object \n",
      " 14  indext                 929615 non-null  object \n",
      " 15  conyuemp               104 non-null     object \n",
      " 16  canal_entrada          927534 non-null  object \n",
      " 17  indfall                929615 non-null  object \n",
      " 18  tipodom                929615 non-null  int64  \n",
      " 19  cod_prov               929615 non-null  float64\n",
      " 20  nomprov                925619 non-null  object \n",
      " 21  ind_actividad_cliente  929615 non-null  int64  \n",
      " 22  renta                  929615 non-null  object \n",
      " 23  segmento               927367 non-null  object \n",
      "dtypes: float64(2), int64(7), object(15)\n",
      "memory usage: 170.2+ MB\n"
     ]
    }
   ],
   "source": [
    "testdata.info()\n",
    "\n",
    "\n",
    "\n",
    "\n",
    "## Drop NAs in Objects data types\n",
    "\n",
    "\n"
   ]
  },
  {
   "cell_type": "code",
   "execution_count": 64,
   "metadata": {},
   "outputs": [
    {
     "name": "stdout",
     "output_type": "stream",
     "text": [
      "fecha_dato                    0\n",
      "ncodpers                      0\n",
      "ind_empleado                  0\n",
      "pais_residencia               0\n",
      "sexo                          5\n",
      "age                           0\n",
      "fecha_alta                    0\n",
      "ind_nuevo                     0\n",
      "antiguedad                    0\n",
      "indrel                        0\n",
      "ult_fec_cli_1t           927932\n",
      "indrel_1mes                   0\n",
      "tiprel_1mes                  23\n",
      "indresi                       0\n",
      "indext                        0\n",
      "conyuemp                 929511\n",
      "canal_entrada              2081\n",
      "indfall                       0\n",
      "tipodom                       0\n",
      "cod_prov                      0\n",
      "nomprov                    3996\n",
      "ind_actividad_cliente         0\n",
      "renta                         0\n",
      "segmento                   2248\n",
      "dtype: int64\n"
     ]
    }
   ],
   "source": [
    "## drop nas in object\n",
    "# sexo,nomprov,segmento, canal_entrada,tiprel_\n",
    "\n",
    "testdata['sexo'] = testdata['sexo'].dropna()\n",
    "testdata['nomprov'] = testdata['nomprov'].dropna()\n",
    "\n",
    "print(testdata.isnull().sum())"
   ]
  },
  {
   "cell_type": "code",
   "execution_count": 24,
   "metadata": {},
   "outputs": [
    {
     "name": "stderr",
     "output_type": "stream",
     "text": [
      "C:\\Users\\gifty\\AppData\\Local\\Temp/ipykernel_28364/2953383279.py:14: FutureWarning: Dropping of nuisance columns in DataFrame reductions (with 'numeric_only=None') is deprecated; in a future version this will raise TypeError.  Select only valid columns before calling the reduction.\n",
      "  testdata_imputed_median = testdata.fillna(testdata.median())\n",
      "C:\\Users\\gifty\\AppData\\Local\\Temp/ipykernel_28364/2953383279.py:17: FutureWarning: Dropping of nuisance columns in DataFrame reductions (with 'numeric_only=None') is deprecated; in a future version this will raise TypeError.  Select only valid columns before calling the reduction.\n",
      "  subtestdata_imputed_median = subtestdata.fillna(subtestdata.median())\n"
     ]
    }
   ],
   "source": [
    "## Subset data out with filtered columns that needs NAs gone.\n",
    "#subtestdata = testdata.iloc[:,[10,11,12,15,16,19,20,23]]\n",
    "#print(subtestdata)\n",
    "\n",
    "# Alternatively, you can impute missing values with mean, median, or a custom value using fillna()\n",
    "# For example:\n",
    "\n",
    "#  Impute missing values with mean or median\n",
    "\n",
    "# Impute with Mean\n",
    "#testdata_imputed_mean = testdata.fillna(testdata.mean())\n",
    "\n",
    "# Impute with Median\n",
    "#testdata_imputed_median = testdata.fillna(testdata.median())\n",
    "\n",
    "# Impute with Median\n",
    "#subtestdata_imputed_median = subtestdata.fillna(subtestdata.median())\n",
    "\n",
    "## case where median is NA or 0\n",
    "\n",
    "\n"
   ]
  },
  {
   "cell_type": "code",
   "execution_count": 34,
   "metadata": {},
   "outputs": [],
   "source": [
    "# Save the imputed DataFrame to a new CSV file\n",
    "#testdata_imputed_mean.to_csv('testdata_imputed_mean.csv', index=False)\n",
    "#testdata_imputed_median.to_csv('testdata_imputed_median.csv', index=False)\n",
    "#subtestdata_imputed_median.to_csv('subtestdata_imputed_median.csv', index=False)\n",
    "\n",
    "testdata_new.to_csv('testdata_new.csv', index=False)\n",
    "\n",
    "# Print the first few rows of the imputed datasets\n",
    "#print(testdata_imputed_mean.head())\n",
    "#print(testdata_imputed_median.head())\n",
    "#print(subtestdata_imputed_median.head())"
   ]
  },
  {
   "cell_type": "markdown",
   "metadata": {},
   "source": [
    "Dealing with Outliers\n"
   ]
  },
  {
   "cell_type": "code",
   "execution_count": 91,
   "metadata": {},
   "outputs": [
    {
     "data": {
      "text/plain": [
       "fecha_dato                  0\n",
       "ncodpers                    0\n",
       "ind_empleado                0\n",
       "pais_residencia             0\n",
       "sexo                        0\n",
       "age                         0\n",
       "fecha_alta                  0\n",
       "ind_nuevo                   0\n",
       "antiguedad                  0\n",
       "indrel                      0\n",
       "ult_fec_cli_1t              0\n",
       "indrel_1mes                 0\n",
       "tiprel_1mes                 0\n",
       "indresi                     0\n",
       "indext                      0\n",
       "conyuemp                 1642\n",
       "canal_entrada               0\n",
       "indfall                     0\n",
       "tipodom                     0\n",
       "cod_prov                    0\n",
       "nomprov                     0\n",
       "ind_actividad_cliente       0\n",
       "renta                       0\n",
       "segmento                    0\n",
       "dtype: int64"
      ]
     },
     "execution_count": 91,
     "metadata": {},
     "output_type": "execute_result"
    }
   ],
   "source": [
    "#print(testdata_new)\n",
    "\n",
    "test_new=testdata.dropna(subset=['sexo','ult_fec_cli_1t','tiprel_1mes','canal_entrada','nomprov','segmento'])\n",
    "test_new.isnull().sum()\n",
    "\n",
    "\n",
    "\n",
    "\n",
    "#testdata_new=test_new.dropna()"
   ]
  },
  {
   "cell_type": "code",
   "execution_count": 92,
   "metadata": {},
   "outputs": [
    {
     "name": "stdout",
     "output_type": "stream",
     "text": [
      "<class 'pandas.core.frame.DataFrame'>\n",
      "Int64Index: 1642 entries, 421 to 929330\n",
      "Data columns (total 24 columns):\n",
      " #   Column                 Non-Null Count  Dtype  \n",
      "---  ------                 --------------  -----  \n",
      " 0   fecha_dato             1642 non-null   object \n",
      " 1   ncodpers               1642 non-null   int64  \n",
      " 2   ind_empleado           1642 non-null   object \n",
      " 3   pais_residencia        1642 non-null   object \n",
      " 4   sexo                   1642 non-null   object \n",
      " 5   age                    1642 non-null   int64  \n",
      " 6   fecha_alta             1642 non-null   object \n",
      " 7   ind_nuevo              1642 non-null   int64  \n",
      " 8   antiguedad             1642 non-null   int64  \n",
      " 9   indrel                 1642 non-null   int64  \n",
      " 10  ult_fec_cli_1t         1642 non-null   object \n",
      " 11  indrel_1mes            1642 non-null   float64\n",
      " 12  tiprel_1mes            1642 non-null   object \n",
      " 13  indresi                1642 non-null   object \n",
      " 14  indext                 1642 non-null   object \n",
      " 15  conyuemp               0 non-null      object \n",
      " 16  canal_entrada          1642 non-null   object \n",
      " 17  indfall                1642 non-null   object \n",
      " 18  tipodom                1642 non-null   int64  \n",
      " 19  cod_prov               1642 non-null   float64\n",
      " 20  nomprov                1642 non-null   object \n",
      " 21  ind_actividad_cliente  1642 non-null   int64  \n",
      " 22  renta                  1642 non-null   object \n",
      " 23  segmento               1642 non-null   object \n",
      "dtypes: float64(2), int64(7), object(15)\n",
      "memory usage: 320.7+ KB\n"
     ]
    }
   ],
   "source": [
    "test_new.info()"
   ]
  },
  {
   "cell_type": "code",
   "execution_count": 89,
   "metadata": {},
   "outputs": [
    {
     "name": "stdout",
     "output_type": "stream",
     "text": [
      "313713    89\n",
      "464274    87\n",
      "476993    88\n",
      "484153    88\n",
      "497396    88\n",
      "552812    87\n",
      "612373    87\n",
      "695487    88\n",
      "702530    87\n",
      "861348    87\n",
      "913784    89\n",
      "Name: age, dtype: int64\n",
      "40.24543239951279\n",
      "38.0\n",
      "-6.118367705733625\n",
      "86.6092325047592\n"
     ]
    }
   ],
   "source": [
    "## Variable age - integer\n",
    "age =test_new['age']\n",
    "age_mean=age.mean()\n",
    "age_std=age.std()\n",
    "age_lower=age_mean - 3*age_std\n",
    "age_upper=age_mean + 3*age_std\n",
    "age_outliers=age[(age<age_lower)|(age>age_upper)]\n",
    "print(age_outliers)\n",
    "print(age_mean) #39\n",
    "print(age.median())\n",
    "print(age_lower) \n",
    "print(age_upper) "
   ]
  },
  {
   "cell_type": "code",
   "execution_count": 93,
   "metadata": {},
   "outputs": [
    {
     "name": "stdout",
     "output_type": "stream",
     "text": [
      "421       22\n",
      "2248      37\n",
      "2748      23\n",
      "3533      40\n",
      "4188      66\n",
      "          ..\n",
      "927385    14\n",
      "928152    62\n",
      "928153    60\n",
      "928842    51\n",
      "929330    37\n",
      "Name: age, Length: 1642, dtype: int64\n"
     ]
    },
    {
     "ename": "KeyError",
     "evalue": "916",
     "output_type": "error",
     "traceback": [
      "\u001b[1;31m---------------------------------------------------------------------------\u001b[0m",
      "\u001b[1;31mKeyError\u001b[0m                                  Traceback (most recent call last)",
      "\u001b[1;32mc:\\Users\\gifty\\anaconda3\\lib\\site-packages\\pandas\\core\\indexes\\base.py\u001b[0m in \u001b[0;36mget_loc\u001b[1;34m(self, key, method, tolerance)\u001b[0m\n\u001b[0;32m   3360\u001b[0m             \u001b[1;32mtry\u001b[0m\u001b[1;33m:\u001b[0m\u001b[1;33m\u001b[0m\u001b[1;33m\u001b[0m\u001b[0m\n\u001b[1;32m-> 3361\u001b[1;33m                 \u001b[1;32mreturn\u001b[0m \u001b[0mself\u001b[0m\u001b[1;33m.\u001b[0m\u001b[0m_engine\u001b[0m\u001b[1;33m.\u001b[0m\u001b[0mget_loc\u001b[0m\u001b[1;33m(\u001b[0m\u001b[0mcasted_key\u001b[0m\u001b[1;33m)\u001b[0m\u001b[1;33m\u001b[0m\u001b[1;33m\u001b[0m\u001b[0m\n\u001b[0m\u001b[0;32m   3362\u001b[0m             \u001b[1;32mexcept\u001b[0m \u001b[0mKeyError\u001b[0m \u001b[1;32mas\u001b[0m \u001b[0merr\u001b[0m\u001b[1;33m:\u001b[0m\u001b[1;33m\u001b[0m\u001b[1;33m\u001b[0m\u001b[0m\n",
      "\u001b[1;32mc:\\Users\\gifty\\anaconda3\\lib\\site-packages\\pandas\\_libs\\index.pyx\u001b[0m in \u001b[0;36mpandas._libs.index.IndexEngine.get_loc\u001b[1;34m()\u001b[0m\n",
      "\u001b[1;32mc:\\Users\\gifty\\anaconda3\\lib\\site-packages\\pandas\\_libs\\index.pyx\u001b[0m in \u001b[0;36mpandas._libs.index.IndexEngine.get_loc\u001b[1;34m()\u001b[0m\n",
      "\u001b[1;32mpandas\\_libs\\hashtable_class_helper.pxi\u001b[0m in \u001b[0;36mpandas._libs.hashtable.Int64HashTable.get_item\u001b[1;34m()\u001b[0m\n",
      "\u001b[1;32mpandas\\_libs\\hashtable_class_helper.pxi\u001b[0m in \u001b[0;36mpandas._libs.hashtable.Int64HashTable.get_item\u001b[1;34m()\u001b[0m\n",
      "\u001b[1;31mKeyError\u001b[0m: 916",
      "\nThe above exception was the direct cause of the following exception:\n",
      "\u001b[1;31mKeyError\u001b[0m                                  Traceback (most recent call last)",
      "\u001b[1;32m~\\AppData\\Local\\Temp/ipykernel_28364/1160242551.py\u001b[0m in \u001b[0;36m<module>\u001b[1;34m\u001b[0m\n\u001b[0;32m      3\u001b[0m \u001b[0mage1\u001b[0m\u001b[1;33m[\u001b[0m\u001b[0mage1\u001b[0m \u001b[1;33m<\u001b[0m \u001b[1;33m-\u001b[0m\u001b[1;36m9\u001b[0m\u001b[1;33m]\u001b[0m\u001b[1;33m=\u001b[0m\u001b[1;36m39\u001b[0m\u001b[1;33m\u001b[0m\u001b[1;33m\u001b[0m\u001b[0m\n\u001b[0;32m      4\u001b[0m \u001b[0mprint\u001b[0m\u001b[1;33m(\u001b[0m\u001b[0mage1\u001b[0m\u001b[1;33m)\u001b[0m\u001b[1;33m\u001b[0m\u001b[1;33m\u001b[0m\u001b[0m\n\u001b[1;32m----> 5\u001b[1;33m \u001b[0mprint\u001b[0m\u001b[1;33m(\u001b[0m\u001b[0mage\u001b[0m\u001b[1;33m[\u001b[0m\u001b[1;36m916\u001b[0m\u001b[1;33m]\u001b[0m\u001b[1;33m)\u001b[0m\u001b[1;33m\u001b[0m\u001b[1;33m\u001b[0m\u001b[0m\n\u001b[0m\u001b[0;32m      6\u001b[0m \u001b[0mprint\u001b[0m\u001b[1;33m(\u001b[0m\u001b[0mage\u001b[0m\u001b[1;33m[\u001b[0m\u001b[1;36m910\u001b[0m\u001b[1;33m]\u001b[0m\u001b[1;33m)\u001b[0m\u001b[1;33m\u001b[0m\u001b[1;33m\u001b[0m\u001b[0m\n",
      "\u001b[1;32mc:\\Users\\gifty\\anaconda3\\lib\\site-packages\\pandas\\core\\series.py\u001b[0m in \u001b[0;36m__getitem__\u001b[1;34m(self, key)\u001b[0m\n\u001b[0;32m    940\u001b[0m \u001b[1;33m\u001b[0m\u001b[0m\n\u001b[0;32m    941\u001b[0m         \u001b[1;32melif\u001b[0m \u001b[0mkey_is_scalar\u001b[0m\u001b[1;33m:\u001b[0m\u001b[1;33m\u001b[0m\u001b[1;33m\u001b[0m\u001b[0m\n\u001b[1;32m--> 942\u001b[1;33m             \u001b[1;32mreturn\u001b[0m \u001b[0mself\u001b[0m\u001b[1;33m.\u001b[0m\u001b[0m_get_value\u001b[0m\u001b[1;33m(\u001b[0m\u001b[0mkey\u001b[0m\u001b[1;33m)\u001b[0m\u001b[1;33m\u001b[0m\u001b[1;33m\u001b[0m\u001b[0m\n\u001b[0m\u001b[0;32m    943\u001b[0m \u001b[1;33m\u001b[0m\u001b[0m\n\u001b[0;32m    944\u001b[0m         \u001b[1;32mif\u001b[0m \u001b[0mis_hashable\u001b[0m\u001b[1;33m(\u001b[0m\u001b[0mkey\u001b[0m\u001b[1;33m)\u001b[0m\u001b[1;33m:\u001b[0m\u001b[1;33m\u001b[0m\u001b[1;33m\u001b[0m\u001b[0m\n",
      "\u001b[1;32mc:\\Users\\gifty\\anaconda3\\lib\\site-packages\\pandas\\core\\series.py\u001b[0m in \u001b[0;36m_get_value\u001b[1;34m(self, label, takeable)\u001b[0m\n\u001b[0;32m   1049\u001b[0m \u001b[1;33m\u001b[0m\u001b[0m\n\u001b[0;32m   1050\u001b[0m         \u001b[1;31m# Similar to Index.get_value, but we do not fall back to positional\u001b[0m\u001b[1;33m\u001b[0m\u001b[1;33m\u001b[0m\u001b[0m\n\u001b[1;32m-> 1051\u001b[1;33m         \u001b[0mloc\u001b[0m \u001b[1;33m=\u001b[0m \u001b[0mself\u001b[0m\u001b[1;33m.\u001b[0m\u001b[0mindex\u001b[0m\u001b[1;33m.\u001b[0m\u001b[0mget_loc\u001b[0m\u001b[1;33m(\u001b[0m\u001b[0mlabel\u001b[0m\u001b[1;33m)\u001b[0m\u001b[1;33m\u001b[0m\u001b[1;33m\u001b[0m\u001b[0m\n\u001b[0m\u001b[0;32m   1052\u001b[0m         \u001b[1;32mreturn\u001b[0m \u001b[0mself\u001b[0m\u001b[1;33m.\u001b[0m\u001b[0mindex\u001b[0m\u001b[1;33m.\u001b[0m\u001b[0m_get_values_for_loc\u001b[0m\u001b[1;33m(\u001b[0m\u001b[0mself\u001b[0m\u001b[1;33m,\u001b[0m \u001b[0mloc\u001b[0m\u001b[1;33m,\u001b[0m \u001b[0mlabel\u001b[0m\u001b[1;33m)\u001b[0m\u001b[1;33m\u001b[0m\u001b[1;33m\u001b[0m\u001b[0m\n\u001b[0;32m   1053\u001b[0m \u001b[1;33m\u001b[0m\u001b[0m\n",
      "\u001b[1;32mc:\\Users\\gifty\\anaconda3\\lib\\site-packages\\pandas\\core\\indexes\\base.py\u001b[0m in \u001b[0;36mget_loc\u001b[1;34m(self, key, method, tolerance)\u001b[0m\n\u001b[0;32m   3361\u001b[0m                 \u001b[1;32mreturn\u001b[0m \u001b[0mself\u001b[0m\u001b[1;33m.\u001b[0m\u001b[0m_engine\u001b[0m\u001b[1;33m.\u001b[0m\u001b[0mget_loc\u001b[0m\u001b[1;33m(\u001b[0m\u001b[0mcasted_key\u001b[0m\u001b[1;33m)\u001b[0m\u001b[1;33m\u001b[0m\u001b[1;33m\u001b[0m\u001b[0m\n\u001b[0;32m   3362\u001b[0m             \u001b[1;32mexcept\u001b[0m \u001b[0mKeyError\u001b[0m \u001b[1;32mas\u001b[0m \u001b[0merr\u001b[0m\u001b[1;33m:\u001b[0m\u001b[1;33m\u001b[0m\u001b[1;33m\u001b[0m\u001b[0m\n\u001b[1;32m-> 3363\u001b[1;33m                 \u001b[1;32mraise\u001b[0m \u001b[0mKeyError\u001b[0m\u001b[1;33m(\u001b[0m\u001b[0mkey\u001b[0m\u001b[1;33m)\u001b[0m \u001b[1;32mfrom\u001b[0m \u001b[0merr\u001b[0m\u001b[1;33m\u001b[0m\u001b[1;33m\u001b[0m\u001b[0m\n\u001b[0m\u001b[0;32m   3364\u001b[0m \u001b[1;33m\u001b[0m\u001b[0m\n\u001b[0;32m   3365\u001b[0m         \u001b[1;32mif\u001b[0m \u001b[0mis_scalar\u001b[0m\u001b[1;33m(\u001b[0m\u001b[0mkey\u001b[0m\u001b[1;33m)\u001b[0m \u001b[1;32mand\u001b[0m \u001b[0misna\u001b[0m\u001b[1;33m(\u001b[0m\u001b[0mkey\u001b[0m\u001b[1;33m)\u001b[0m \u001b[1;32mand\u001b[0m \u001b[1;32mnot\u001b[0m \u001b[0mself\u001b[0m\u001b[1;33m.\u001b[0m\u001b[0mhasnans\u001b[0m\u001b[1;33m:\u001b[0m\u001b[1;33m\u001b[0m\u001b[1;33m\u001b[0m\u001b[0m\n",
      "\u001b[1;31mKeyError\u001b[0m: 916"
     ]
    }
   ],
   "source": [
    "age1 = age._get_numeric_data()\n",
    "age1[age1 >89]=39\n",
    "age1[age1 < -9]=39\n",
    "print(age1)\n",
    "print(age[916]) \n",
    "print(age[910]) "
   ]
  },
  {
   "cell_type": "code",
   "execution_count": 94,
   "metadata": {},
   "outputs": [
    {
     "name": "stdout",
     "output_type": "stream",
     "text": [
      "579727    217\n",
      "585974    227\n",
      "586327    206\n",
      "588542    220\n",
      "590225    222\n",
      "592370    220\n",
      "592992    220\n",
      "594811    208\n",
      "594882    207\n",
      "595079    207\n",
      "596629    208\n",
      "601483    211\n",
      "602181    212\n",
      "602182    212\n",
      "602431    211\n",
      "603900    203\n",
      "605401    209\n",
      "607195    210\n",
      "607315    211\n",
      "607421    211\n",
      "612372    233\n",
      "612373    233\n",
      "615084    239\n",
      "620050    242\n",
      "621586    235\n",
      "625844    230\n",
      "633306    239\n",
      "635426    230\n",
      "636943    248\n",
      "675159    204\n",
      "676325    204\n",
      "680943    201\n",
      "684283    204\n",
      "Name: antiguedad, dtype: int64\n",
      "37.35809987819732\n",
      "11.0\n",
      "-125.16359779747805\n",
      "199.8797975538727\n"
     ]
    }
   ],
   "source": [
    "antiguedad=test_new['antiguedad']\n",
    "antiguedad_mean=antiguedad.mean()\n",
    "antiguedad_std=antiguedad.std()\n",
    "antiguedad_lower=antiguedad_mean - 3*antiguedad_std\n",
    "antiguedad_upper=antiguedad_mean + 3*antiguedad_std\n",
    "antiguedad_outliers=antiguedad[(antiguedad<antiguedad_lower)|(antiguedad>antiguedad_upper)]\n",
    "\n",
    "print(antiguedad_outliers)\n",
    "print(antiguedad_mean) \n",
    "print(antiguedad.median())\n",
    "print(antiguedad_lower) \n",
    "print(antiguedad_upper) "
   ]
  },
  {
   "cell_type": "code",
   "execution_count": null,
   "metadata": {},
   "outputs": [],
   "source": [
    "antiguedad1 = antiguedad._get_numeric_data()\n",
    "antiguedad1[antiguedad1 >5471]=66\n",
    "antiguedad1[antiguedad1 < -5315]=66\n",
    "print(antiguedad1)\n",
    "print(antiguedad[675528]) \n",
    "print(antiguedad[734648]) "
   ]
  },
  {
   "cell_type": "code",
   "execution_count": 96,
   "metadata": {},
   "outputs": [
    {
     "name": "stdout",
     "output_type": "stream",
     "text": [
      "Series([], Name: cod_prov, dtype: float64)\n",
      "26.159561510353228\n",
      "28.0\n",
      "-13.294078806899094\n",
      "65.61320182760555\n"
     ]
    }
   ],
   "source": [
    "cod_prov=test_new['cod_prov']\n",
    "cod_prov_mean=cod_prov.mean()\n",
    "cod_prov_std=cod_prov.std()\n",
    "cod_prov_lower=cod_prov_mean - 3*cod_prov_std\n",
    "cod_prov_upper=cod_prov_mean + 3*cod_prov_std\n",
    "cod_prov_outliers=cod_prov[(cod_prov<cod_prov_lower)|(cod_prov>cod_prov_upper)]\n",
    "print(cod_prov_outliers)\n",
    "print(cod_prov_mean) \n",
    "print(cod_prov.median())\n",
    "print(cod_prov_lower) \n",
    "print(cod_prov_upper)"
   ]
  },
  {
   "cell_type": "code",
   "execution_count": 97,
   "metadata": {},
   "outputs": [
    {
     "name": "stdout",
     "output_type": "stream",
     "text": [
      "421       46.0\n",
      "2248      29.0\n",
      "2748      15.0\n",
      "3533      28.0\n",
      "4188      28.0\n",
      "          ... \n",
      "927385    13.0\n",
      "928152    28.0\n",
      "928153    28.0\n",
      "928842     8.0\n",
      "929330    35.0\n",
      "Name: cod_prov, Length: 1642, dtype: float64\n"
     ]
    }
   ],
   "source": [
    "cod_prov1 = cod_prov._get_numeric_data()\n",
    "cod_prov1[cod_prov1 >65]=27\n",
    "cod_prov1[cod_prov1 < -11]=27\n",
    "print(cod_prov1)"
   ]
  },
  {
   "cell_type": "code",
   "execution_count": 98,
   "metadata": {},
   "outputs": [
    {
     "name": "stdout",
     "output_type": "stream",
     "text": [
      "Series([], Name: renta, dtype: object)\n",
      "421          58433.61\n",
      "2248               NA\n",
      "2748         95318.19\n",
      "3533        158775.72\n",
      "4188               NA\n",
      "             ...     \n",
      "927385       53633.46\n",
      "928152      227053.59\n",
      "928153      227053.59\n",
      "928842      189914.64\n",
      "929330      105349.08\n",
      "Name: renta, Length: 1642, dtype: object\n"
     ]
    }
   ],
   "source": [
    "renta=test_new['renta']\n",
    "renta1 = renta._get_numeric_data()\n",
    "renta1[renta1 >297949]=105525\n",
    "renta1[renta1 < -65366]=105525\n",
    "print(renta1)\n",
    "print(renta)"
   ]
  }
 ],
 "metadata": {
  "kernelspec": {
   "display_name": "base",
   "language": "python",
   "name": "python3"
  },
  "language_info": {
   "codemirror_mode": {
    "name": "ipython",
    "version": 3
   },
   "file_extension": ".py",
   "mimetype": "text/x-python",
   "name": "python",
   "nbconvert_exporter": "python",
   "pygments_lexer": "ipython3",
   "version": "3.9.7"
  },
  "orig_nbformat": 4
 },
 "nbformat": 4,
 "nbformat_minor": 2
}
